{
 "cells": [
  {
   "cell_type": "code",
   "execution_count": 1,
   "id": "6e39db24-f133-446f-b1fd-18f3a7cb9e31",
   "metadata": {},
   "outputs": [],
   "source": [
    "a=10"
   ]
  },
  {
   "cell_type": "code",
   "execution_count": 2,
   "id": "45733d1a-498f-4e96-8a2b-d4c0d73eb4e1",
   "metadata": {},
   "outputs": [],
   "source": [
    "b=30"
   ]
  },
  {
   "cell_type": "code",
   "execution_count": 3,
   "id": "0ef35901-7db8-4bbb-afed-c08c2d7c4bcb",
   "metadata": {},
   "outputs": [
    {
     "data": {
      "text/plain": [
       "40"
      ]
     },
     "execution_count": 3,
     "metadata": {},
     "output_type": "execute_result"
    }
   ],
   "source": [
    "c=a+b\n",
    "c"
   ]
  }
 ],
 "metadata": {
  "kernelspec": {
   "display_name": "Python 3 (ipykernel)",
   "language": "python",
   "name": "python3"
  },
  "language_info": {
   "codemirror_mode": {
    "name": "ipython",
    "version": 3
   },
   "file_extension": ".py",
   "mimetype": "text/x-python",
   "name": "python",
   "nbconvert_exporter": "python",
   "pygments_lexer": "ipython3",
   "version": "3.12.0"
  }
 },
 "nbformat": 4,
 "nbformat_minor": 5
}
